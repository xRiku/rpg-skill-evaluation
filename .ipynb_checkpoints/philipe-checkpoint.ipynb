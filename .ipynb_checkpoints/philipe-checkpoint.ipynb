{
 "cells": [
  {
   "cell_type": "code",
   "execution_count": 1,
   "id": "5f928190",
   "metadata": {
    "id": "5f928190",
    "scrolled": false
   },
   "outputs": [],
   "source": [
    "import numpy as np\n",
    "import pandas as pd\n",
    "import csv\n",
    "import matplotlib.pyplot as plt\n",
    "import seaborn as sns\n",
    "import re\n",
    "import spacy\n",
    "# from wordcloud import WordCloud\n",
    "from sklearn.feature_extraction.text import TfidfVectorizer\n",
    "\n",
    "nlp = spacy.load(\"en_core_web_sm\")\n",
    "\n",
    "sns.set_theme()"
   ]
  },
  {
   "cell_type": "code",
   "execution_count": 2,
   "id": "bca6d10d",
   "metadata": {},
   "outputs": [],
   "source": [
    "def wordcloud(text):\n",
    "  wordcloud = WordCloud(background_color=\"white\").generate(text)\n",
    "  plt.figure(figsize=(10,10))\n",
    "  plt.imshow(wordcloud, interpolation='bilinear')\n",
    "  plt.axis(\"off\")\n",
    "\n",
    "# wordcloud(' '.join(df1['text']))"
   ]
  },
  {
   "cell_type": "code",
   "execution_count": 3,
   "id": "031f272a",
   "metadata": {
    "id": "031f272a",
    "scrolled": false
   },
   "outputs": [],
   "source": [
    "# Abertura dos arquivos\n",
    "podcast_file = open('general_podcasts.csv', mode='r')\n",
    "skills_file = open('skills_dataset.csv', mode='r')\n",
    "CR_file = open('CR_skills_dataset.csv', mode='r')"
   ]
  },
  {
   "cell_type": "markdown",
   "id": "pYDUx6_iVG5n",
   "metadata": {
    "id": "pYDUx6_iVG5n"
   },
   "source": [
    "# Podcast"
   ]
  },
  {
   "cell_type": "code",
   "execution_count": 4,
   "id": "6ab35413",
   "metadata": {
    "id": "6ab35413",
    "scrolled": false
   },
   "outputs": [],
   "source": [
    "# Transforma os dados do csv em um dataframe\n",
    "podcast_df = pd.read_csv(podcast_file)"
   ]
  },
  {
   "cell_type": "code",
   "execution_count": 5,
   "id": "c4b3c71e",
   "metadata": {
    "id": "c4b3c71e",
    "outputId": "03119dbb-3fd1-40cf-843b-a5186930f373",
    "scrolled": false
   },
   "outputs": [
    {
     "data": {
      "text/plain": [
       "skill            0\n",
       "backward_text    0\n",
       "check_line       0\n",
       "original_name    0\n",
       "dtype: int64"
      ]
     },
     "execution_count": 5,
     "metadata": {},
     "output_type": "execute_result"
    }
   ],
   "source": [
    "# Substitui espaços em branco por NaN\n",
    "podcast_df = podcast_df.replace(r'^\\s*$', np.NaN, regex=True)\n",
    "# Vertifica número de linhas nulas para cada coluna do arquivo\n",
    "podcast_df.isnull().sum()"
   ]
  },
  {
   "cell_type": "code",
   "execution_count": 6,
   "id": "cae01e47",
   "metadata": {
    "id": "cae01e47",
    "outputId": "31eb2c03-b280-4ab6-9ac7-0a8f8698b2fd",
    "scrolled": false
   },
   "outputs": [
    {
     "data": {
      "text/plain": [
       "skill\n",
       "acrobatics          82\n",
       "animal handling     47\n",
       "arcana             103\n",
       "athletics          137\n",
       "concentration        1\n",
       "deception          105\n",
       "disguise             3\n",
       "history             42\n",
       "insight             87\n",
       "intimidation        42\n",
       "investigation      204\n",
       "medicine            41\n",
       "nature              49\n",
       "perception         405\n",
       "performance         77\n",
       "persuasion          63\n",
       "religion            15\n",
       "sleight of hand     41\n",
       "stealth            125\n",
       "survival            64\n",
       "Name: backward_text, dtype: int64"
      ]
     },
     "execution_count": 6,
     "metadata": {},
     "output_type": "execute_result"
    }
   ],
   "source": [
    "# Aplica uma função que limpa espaços em branco antes e depois da skill, além de passar para letra minúscula\n",
    "podcast_df[\"skill\"] = podcast_df[\"skill\"].apply(lambda x: x.strip().lower())\n",
    "\n",
    "# Agrupa e conta o número frases por skill, também coloca as skills em ordem alfabética \n",
    "podcast_pps = podcast_df.groupby(by=\"skill\", sort=True).count()['backward_text']\n",
    "podcast_pps"
   ]
  },
  {
   "cell_type": "code",
   "execution_count": null,
   "id": "ebd1dd22",
   "metadata": {
    "id": "ebd1dd22",
    "outputId": "ad33e091-de3e-4a53-bdb3-00b8ff245b17",
    "scrolled": false
   },
   "outputs": [],
   "source": [
    "podcast_pps[\"persuasion\"]"
   ]
  },
  {
   "cell_type": "markdown",
   "id": "DfanMiE_VWSP",
   "metadata": {
    "id": "DfanMiE_VWSP"
   },
   "source": [
    "# Skills"
   ]
  },
  {
   "cell_type": "code",
   "execution_count": null,
   "id": "b81b95a6",
   "metadata": {
    "id": "b81b95a6",
    "scrolled": false
   },
   "outputs": [],
   "source": [
    "# Transforma os dados do csv em um dataframe\n",
    "skills_df = pd.read_csv(skills_file)"
   ]
  },
  {
   "cell_type": "code",
   "execution_count": null,
   "id": "d6a34275",
   "metadata": {
    "id": "d6a34275",
    "outputId": "67680c03-03c5-4a1b-e12d-3e568491a2cd",
    "scrolled": false
   },
   "outputs": [],
   "source": [
    "# Substitui os campos com espaço em branco por NaN\n",
    "skills_df = skills_df.replace(r'^\\s*$', np.NaN, regex=True)\n",
    "# Vertifica número de linhas nulas para cada coluna do arquivo\n",
    "skills_df.isnull().sum()"
   ]
  },
  {
   "cell_type": "code",
   "execution_count": null,
   "id": "0788a8d0",
   "metadata": {
    "id": "0788a8d0",
    "outputId": "f5a903ff-b5b3-471e-8328-20afbf695e13",
    "scrolled": true
   },
   "outputs": [],
   "source": [
    "# Lista linhas que estão com NaN no campo skill\n",
    "skills_df.loc[skills_df[\"skill\"].isnull()]"
   ]
  },
  {
   "cell_type": "code",
   "execution_count": null,
   "id": "15fb14d7",
   "metadata": {
    "id": "15fb14d7",
    "outputId": "d2f1f0b8-d257-4f4a-bda7-1b0cd4018eac",
    "scrolled": false
   },
   "outputs": [],
   "source": [
    "# Remove todas as linhas com NaN no campo skill\n",
    "skill_df = skills_df.dropna(subset=[\"skill\"], inplace=True)\n",
    "# Soma as linhas com NaN no campo skill\n",
    "skills_df[\"skill\"].isnull().sum()"
   ]
  },
  {
   "cell_type": "code",
   "execution_count": null,
   "id": "f152ad08",
   "metadata": {
    "id": "f152ad08",
    "scrolled": false
   },
   "outputs": [],
   "source": [
    "# Aplica uma função que transforma o campo em string,\n",
    "# limpa espaços em branco antes e depois da string, além de passar para letra minúscula\n",
    "skills_df[\"skill\"] = skills_df[\"skill\"].apply(lambda x: str(x).strip().lower())\n",
    "skills_df"
   ]
  },
  {
   "cell_type": "code",
   "execution_count": null,
   "id": "42e63981",
   "metadata": {
    "id": "42e63981",
    "outputId": "80566504-b2a3-4d88-f9c9-678ee787b404",
    "scrolled": false
   },
   "outputs": [],
   "source": [
    "# Agrupa e conta o número frases por skill, além de colocar em ordem alfabética de skill.\n",
    "skills_pps = skills_df.groupby(by=\"skill\", sort=True).count()[\"backward_text\"]\n",
    "skills_pps"
   ]
  },
  {
   "cell_type": "code",
   "execution_count": null,
   "id": "b4fec9b5",
   "metadata": {
    "id": "b4fec9b5",
    "outputId": "1a5b0a56-1534-4db5-af50-907d3fad0fc1",
    "scrolled": false
   },
   "outputs": [],
   "source": [
    "skills_pps[\"persuasion\"]"
   ]
  },
  {
   "cell_type": "markdown",
   "id": "j6sXrj6sVhsW",
   "metadata": {
    "id": "j6sXrj6sVhsW"
   },
   "source": [
    "# CR skills"
   ]
  },
  {
   "cell_type": "code",
   "execution_count": null,
   "id": "04ff9ea2",
   "metadata": {
    "scrolled": false
   },
   "outputs": [],
   "source": [
    "# Transforma os dados do csv em um dataframe\n",
    "CR_df = pd.read_csv(CR_file)"
   ]
  },
  {
   "cell_type": "code",
   "execution_count": null,
   "id": "d8f3e081",
   "metadata": {
    "id": "d8f3e081",
    "outputId": "e97f4789-fda4-4bc3-de07-0e23bc344931",
    "scrolled": false
   },
   "outputs": [],
   "source": [
    "# Substitui campos com espaço em branco por NaN\n",
    "CR_df = CR_df.replace(r'^\\s*$', np.NaN, regex=True)\n",
    "# Vertifica número de linhas nulas para cada coluna do arquivo\n",
    "CR_df.isnull().sum()"
   ]
  },
  {
   "cell_type": "code",
   "execution_count": null,
   "id": "05a56701",
   "metadata": {
    "id": "05a56701",
    "outputId": "92d2e86c-7aa6-4c07-f356-505b287584bc",
    "scrolled": false
   },
   "outputs": [],
   "source": [
    "# Aplica uma função que limpa espaços em branco antes e depois da skill, além de passar para letra minúscula\n",
    "CR_df['skill'] = CR_df['skill'].apply(lambda x: x.strip().lower())\n",
    "CR_df"
   ]
  },
  {
   "cell_type": "code",
   "execution_count": null,
   "id": "1186abf8",
   "metadata": {
    "id": "1186abf8",
    "outputId": "27557c83-c250-4e14-a406-2849cc7ae582",
    "scrolled": false
   },
   "outputs": [],
   "source": [
    "# Agrupa e conta o número frases por skill, também coloca as skills em ordem alfabética \n",
    "# PPS = phrases per skill\n",
    "CR_pps = CR_df.groupby(by=\"skill\", sort=True).count()[\"backward_text\"]\n",
    "CR_pps"
   ]
  },
  {
   "cell_type": "code",
   "execution_count": null,
   "id": "139ebb8c",
   "metadata": {
    "id": "139ebb8c",
    "outputId": "1f02e52e-3e5a-44c1-9a9a-52e27fe4b180",
    "scrolled": false
   },
   "outputs": [],
   "source": [
    "CR_pps[\"persuasion\"]"
   ]
  },
  {
   "cell_type": "markdown",
   "id": "hLYyC4w1V0Y2",
   "metadata": {
    "id": "hLYyC4w1V0Y2"
   },
   "source": [
    "# Tabela total"
   ]
  },
  {
   "cell_type": "code",
   "execution_count": null,
   "id": "d747e346",
   "metadata": {
    "id": "d747e346",
    "scrolled": false
   },
   "outputs": [],
   "source": [
    "# Dataframe resultado da concatenação dos três dataframes\n",
    "concatenated_df = pd.concat([podcast_df,skills_df,CR_df])"
   ]
  },
  {
   "cell_type": "code",
   "execution_count": null,
   "id": "53293b81",
   "metadata": {
    "id": "53293b81",
    "outputId": "c1ed7478-6da1-4142-8c33-33bcabcf3ce2",
    "scrolled": false
   },
   "outputs": [],
   "source": [
    "# Agrupa e conta o número frases por skill, também coloca as skills em ordem alfabética \n",
    "total_pps = concatenated_df.groupby(\"skill\", sort=True).count()['backward_text']\n",
    "total_pps"
   ]
  },
  {
   "cell_type": "code",
   "execution_count": null,
   "id": "74d638d1",
   "metadata": {
    "id": "74d638d1",
    "outputId": "a9b95931-6ad2-4386-9bcb-8743e70bf96b",
    "scrolled": false
   },
   "outputs": [],
   "source": [
    "total_pps[\"persuasion\"]"
   ]
  },
  {
   "cell_type": "code",
   "execution_count": null,
   "id": "18757c2a",
   "metadata": {
    "id": "18757c2a",
    "scrolled": false
   },
   "outputs": [],
   "source": [
    "\"\"\"\n",
    "    Função que transforma uma lista de palavras bem formatadas em um dicionário de ocorrências.\n",
    "    Ex.:\n",
    "        > x = ['Philipe', 'Jc', 'Victor', 'Philipe', 'Jc', 'Victor', 'Victor', 'Jc']\n",
    "        > ocorrencias(x)\n",
    "        > {'Philipe': 2, 'Jc': 3, 'Victor': 3}\n",
    "\"\"\"\n",
    "def ocorrencias(lista):\n",
    "    dict_ocorrencias = {}\n",
    "    for i in lista:\n",
    "        if i in dict_ocorrencias:\n",
    "            dict_ocorrencias[i] += 1\n",
    "        else:\n",
    "            dict_ocorrencias[i] = 1\n",
    "    return dict_ocorrencias"
   ]
  },
  {
   "cell_type": "code",
   "execution_count": null,
   "id": "6fe6391a",
   "metadata": {
    "id": "6fe6391a",
    "scrolled": false
   },
   "outputs": [],
   "source": [
    "\"\"\"\n",
    "    Função que dado um dicionário de ocorrências ou lista bem formatada,\n",
    "    plota um gráfico com as palavras com maior ocorrência (15 por padrão).\n",
    "\"\"\"\n",
    "def bar_graphic(dicionario=None, paleta=\"rocket\", lista_ocorrencias = None, max=15, dim=(12,9)):\n",
    "    # Se não tiver dicionario, vai ter uma lista\n",
    "    if dicionario is None:\n",
    "        if lista_ocorrencias is not None:\n",
    "            # A lista é então convertida para dicionario através da função de ocorrencias\n",
    "            dicionario = ocorrencias(lista_ocorrencias)\n",
    "    \n",
    "    # O dicionario é transformado em dataframe para melhor manipulação\n",
    "    df = pd.DataFrame(dicionario.items(), columns=[\"key\", \"value\"])\n",
    "    # Dataframe ordenado de forma decrescente e com o máximo estipulado\n",
    "    df = df.sort_values(by=\"value\", ascending=False).head(max)\n",
    "    \n",
    "    # É então re-convertido em dicionario\n",
    "    top_dicionario = dict(df.values)\n",
    "    \n",
    "    # As chaves e valores são convertidas em lista para auxiliar na plotagem do gráfico\n",
    "    palavras = list(top_dicionario.keys())\n",
    "    valores = list(top_dicionario.values())\n",
    "    \n",
    "    ## Plot\n",
    "    # Define dimensões para o gráfico\n",
    "    fig_dims = dim\n",
    "    fig, ax = plt.subplots(figsize=fig_dims)\n",
    "    # Configura o eixo, paleta e dimensões do gráfico\n",
    "    plot = sns.barplot(x=palavras,y=valores, palette=paleta, ax=ax)\n",
    "    # Define o título do gráfico\n",
    "    plt.title(f'Top {max} Ocorrências')\n",
    "    # Rotaciona a legenda de cada barra e plota o gráfico\n",
    "    plt.setp(plot.get_xticklabels(), rotation=45)"
   ]
  },
  {
   "cell_type": "code",
   "execution_count": null,
   "id": "af35fc72",
   "metadata": {
    "id": "af35fc72",
    "outputId": "4d91c268-abb4-45a5-949b-0f0e82eb7088",
    "scrolled": true
   },
   "outputs": [],
   "source": [
    "total_pps_dict = total_pps.to_dict()\n",
    "total_pps_dict"
   ]
  },
  {
   "cell_type": "code",
   "execution_count": null,
   "id": "10226131",
   "metadata": {
    "id": "10226131",
    "outputId": "a6c17616-aeac-4696-d72f-9d2f95824e44",
    "scrolled": false
   },
   "outputs": [],
   "source": [
    "# Total set\n",
    "bar_graphic(dicionario = total_pps_dict, max=20)"
   ]
  },
  {
   "cell_type": "code",
   "execution_count": null,
   "id": "9998f020",
   "metadata": {
    "id": "9998f020",
    "outputId": "f2059d1f-e17e-4d62-d859-f868a9a7186e",
    "scrolled": false
   },
   "outputs": [],
   "source": [
    "# CR Set\n",
    "CR_pps_dict = CR_pps.to_dict()\n",
    "bar_graphic(dicionario=CR_pps_dict, paleta=\"mako\", max=18)"
   ]
  },
  {
   "cell_type": "code",
   "execution_count": null,
   "id": "03724f91",
   "metadata": {
    "id": "03724f91",
    "outputId": "6619d3f7-c6a9-4f7a-a8e6-4919c010d367",
    "scrolled": false
   },
   "outputs": [],
   "source": [
    "# Podcast set\n",
    "podcast_pps_dict = podcast_pps.to_dict()\n",
    "bar_graphic(dicionario = podcast_pps_dict, paleta=\"mako\")"
   ]
  },
  {
   "cell_type": "code",
   "execution_count": null,
   "id": "edc2e00f",
   "metadata": {
    "id": "edc2e00f",
    "outputId": "ad6ba307-2299-4e1c-faa0-edc53e2627b6",
    "scrolled": false
   },
   "outputs": [],
   "source": [
    "# Skills Set\n",
    "skills_pps_dict = skills_pps.to_dict()\n",
    "bar_graphic(dicionario = skills_pps_dict, paleta=\"mako\")"
   ]
  },
  {
   "cell_type": "markdown",
   "id": "5024a465",
   "metadata": {},
   "source": [
    "# Total de Palavras do backward_text"
   ]
  },
  {
   "cell_type": "code",
   "execution_count": null,
   "id": "424f65ac",
   "metadata": {
    "id": "050e54fa",
    "outputId": "078dbb03-05ad-4958-a0c4-c1cd2c5fad13",
    "scrolled": true
   },
   "outputs": [],
   "source": [
    "# Transforma cada linha da coluna de frases do dataframe em lista cujos elementos \n",
    "# são as frases\n",
    "list_df = list(concatenated_df[\"backward_text\"])\n",
    "# Separa a lista de frases em uma lista de lista de palavras\n",
    "full_list = [i.split(\" \") for i in list_df]\n",
    "full_list"
   ]
  },
  {
   "cell_type": "code",
   "execution_count": null,
   "id": "5b332484",
   "metadata": {
    "id": "5b332484",
    "outputId": "a274e91f-b64c-47b6-c9b8-7bcd8fdc679c",
    "scrolled": true
   },
   "outputs": [],
   "source": [
    "# Transforma uma lista de 2 dimensões em 1\n",
    "flat_list = [item for sublist in full_list for item in sublist]\n",
    "flat_list"
   ]
  },
  {
   "cell_type": "code",
   "execution_count": null,
   "id": "1a37736d",
   "metadata": {
    "id": "1a37736d",
    "outputId": "2f970afc-c243-44ed-9b29-e7d8a5a1322e",
    "scrolled": true
   },
   "outputs": [],
   "source": [
    "# Transforma tudo que não sejam números ou letras em string vazia, passa para letra minúscula\n",
    "filtered_flat_list = [re.sub('[^A-Za-z0-9]+', '', i).lower() for i in flat_list]\n",
    "# Remove as strings vazias da lista\n",
    "filtered_flat_list = [x for x in filtered_flat_list if x]\n",
    "filtered_flat_list"
   ]
  },
  {
   "cell_type": "code",
   "execution_count": null,
   "id": "c4dec399",
   "metadata": {
    "id": "c4dec399",
    "outputId": "26d0785d-76db-4509-91c0-bc38d476261d",
    "scrolled": false
   },
   "outputs": [],
   "source": [
    "bar_graphic(lista_ocorrencias = flat_list)"
   ]
  },
  {
   "cell_type": "code",
   "execution_count": null,
   "id": "0abbbcbe",
   "metadata": {
    "id": "0abbbcbe",
    "outputId": "e74e273b-cd8f-4d47-e8b9-b411584fe83d",
    "scrolled": false
   },
   "outputs": [],
   "source": [
    "bar_graphic(lista_ocorrencias = filtered_flat_list, max=30)"
   ]
  },
  {
   "cell_type": "code",
   "execution_count": null,
   "id": "1e9ae525",
   "metadata": {
    "scrolled": false
   },
   "outputs": [],
   "source": [
    "list_slice = list_df[0:11]\n",
    "list_slice"
   ]
  },
  {
   "cell_type": "code",
   "execution_count": null,
   "id": "3c499610",
   "metadata": {},
   "outputs": [],
   "source": [
    "doc = nlp(list_slice[0])\n",
    "for token in doc:\n",
    "    print(token.text, token.lemma_, token.pos_, token.tag_, token.dep_,\n",
    "            token.shape_, token.is_alpha, token.is_stop)"
   ]
  },
  {
   "cell_type": "code",
   "execution_count": null,
   "id": "ace0d9dc",
   "metadata": {},
   "outputs": [],
   "source": [
    "for token in doc:\n",
    "    if not token.is_stop and token.pos_ in (\"VERB\", \"NOUN\"):\n",
    "        print(token.text, token.lemma_, token.pos_, token.tag_, token.dep_,\n",
    "                token.shape_, token.is_alpha, token.is_stop)"
   ]
  },
  {
   "cell_type": "code",
   "execution_count": null,
   "id": "11def52d",
   "metadata": {},
   "outputs": [],
   "source": [
    "len(list_df)"
   ]
  },
  {
   "cell_type": "code",
   "execution_count": null,
   "id": "dab15275",
   "metadata": {},
   "outputs": [],
   "source": [
    "result_list = []\n",
    "for i in list_df:\n",
    "    doc = nlp(i)\n",
    "    for token in doc:\n",
    "        if not token.is_stop and token.pos_ in (\"VERB\", \"NOUN\"):\n",
    "            result_list.append(token.text)"
   ]
  },
  {
   "cell_type": "code",
   "execution_count": null,
   "id": "978e02e1",
   "metadata": {},
   "outputs": [],
   "source": [
    "result_list[0]"
   ]
  },
  {
   "cell_type": "code",
   "execution_count": null,
   "id": "9ac17edb",
   "metadata": {},
   "outputs": [],
   "source": [
    "bar_graphic(lista_ocorrencias = result_list, max=30)"
   ]
  },
  {
   "cell_type": "code",
   "execution_count": null,
   "id": "19a574bf",
   "metadata": {},
   "outputs": [],
   "source": [
    "skill_list = list(CR_df['skill'].unique())"
   ]
  },
  {
   "cell_type": "code",
   "execution_count": null,
   "id": "f56850d5",
   "metadata": {},
   "outputs": [],
   "source": [
    "for skill in skill_list:\n",
    "    df_skill = CR_df[CR_df['skill'].values == skill]\n",
    "    list_skill = ' '.join(df_skill['backward_text'])\n",
    "    bar_graphic(lista_ocorrencias = [i.split(\" \") for i in list_skill])\n",
    "#     print(skill)\n",
    "#     print(len(df_skill))"
   ]
  },
  {
   "cell_type": "code",
   "execution_count": null,
   "id": "1ef7e227",
   "metadata": {},
   "outputs": [],
   "source": []
  }
 ],
 "metadata": {
  "colab": {
   "collapsed_sections": [],
   "name": "main.ipynb",
   "provenance": []
  },
  "kernelspec": {
   "display_name": "Python 3",
   "language": "python",
   "name": "python3"
  },
  "language_info": {
   "codemirror_mode": {
    "name": "ipython",
    "version": 3
   },
   "file_extension": ".py",
   "mimetype": "text/x-python",
   "name": "python",
   "nbconvert_exporter": "python",
   "pygments_lexer": "ipython3",
   "version": "3.8.10"
  }
 },
 "nbformat": 4,
 "nbformat_minor": 5
}
